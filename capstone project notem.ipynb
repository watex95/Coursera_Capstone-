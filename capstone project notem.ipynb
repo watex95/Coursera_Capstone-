{
    "nbformat_minor": 1, 
    "cells": [
        {
            "execution_count": 1, 
            "cell_type": "code", 
            "metadata": {}, 
            "outputs": [], 
            "source": "# The code was removed by Watson Studio for sharing."
        }, 
        {
            "source": "# Coursera capstone project notebook", 
            "cell_type": "markdown", 
            "metadata": {
                "collapsed": true
            }
        }, 
        {
            "source": "# Segmenting and Clustering Neighborhoods in Toronto", 
            "cell_type": "markdown", 
            "metadata": {}
        }, 
        {
            "source": "# Web scrapping the data ", 
            "cell_type": "markdown", 
            "metadata": {}
        }, 
        {
            "execution_count": 101, 
            "cell_type": "code", 
            "metadata": {}, 
            "outputs": [], 
            "source": "import bs4 as bs\nimport urllib.request\nimport pandas as pd\n\nsource = urllib.request.urlopen('https://en.wikipedia.org/wiki/List_of_postal_codes_of_Canada:_M').read()\nsoup = bs.BeautifulSoup(source,'lxml')\n\ntable = soup.find('table', attrs={'class':'wikitable sortable'})\ntable_rows = table.find_all('tr')"
        }, 
        {
            "execution_count": 102, 
            "cell_type": "code", 
            "metadata": {}, 
            "outputs": [], 
            "source": "res=[]\nfor tr in table_rows:\n    td = tr.find_all('td')\n    row = [tr.text.strip() for tr in td if tr.text.strip()]\n    if row:\n        res.append(row)"
        }, 
        {
            "source": "### Creating the data frame", 
            "cell_type": "markdown", 
            "metadata": {}
        }, 
        {
            "execution_count": 103, 
            "cell_type": "code", 
            "metadata": {}, 
            "outputs": [
                {
                    "execution_count": 103, 
                    "metadata": {}, 
                    "data": {
                        "text/html": "<div>\n<style scoped>\n    .dataframe tbody tr th:only-of-type {\n        vertical-align: middle;\n    }\n\n    .dataframe tbody tr th {\n        vertical-align: top;\n    }\n\n    .dataframe thead th {\n        text-align: right;\n    }\n</style>\n<table border=\"1\" class=\"dataframe\">\n  <thead>\n    <tr style=\"text-align: right;\">\n      <th></th>\n      <th>Postcode</th>\n      <th>Borough</th>\n      <th>Neighbourhood</th>\n    </tr>\n  </thead>\n  <tbody>\n    <tr>\n      <th>0</th>\n      <td>M1A</td>\n      <td>Not assigned</td>\n      <td>Not assigned</td>\n    </tr>\n    <tr>\n      <th>1</th>\n      <td>M2A</td>\n      <td>Not assigned</td>\n      <td>Not assigned</td>\n    </tr>\n    <tr>\n      <th>2</th>\n      <td>M3A</td>\n      <td>North York</td>\n      <td>Parkwoods</td>\n    </tr>\n    <tr>\n      <th>3</th>\n      <td>M4A</td>\n      <td>North York</td>\n      <td>Victoria Village</td>\n    </tr>\n    <tr>\n      <th>4</th>\n      <td>M5A</td>\n      <td>Downtown Toronto</td>\n      <td>Harbourfront</td>\n    </tr>\n  </tbody>\n</table>\n</div>", 
                        "text/plain": "  Postcode           Borough     Neighbourhood\n0      M1A      Not assigned      Not assigned\n1      M2A      Not assigned      Not assigned\n2      M3A        North York         Parkwoods\n3      M4A        North York  Victoria Village\n4      M5A  Downtown Toronto      Harbourfront"
                    }, 
                    "output_type": "execute_result"
                }
            ], 
            "source": "df=pd.DataFrame(res, columns=[\"Postcode\", \"Borough\",\"Neighbourhood\"])\ndf.head()"
        }, 
        {
            "source": "### Remove the not assigned borough", 
            "cell_type": "markdown", 
            "metadata": {}
        }, 
        {
            "execution_count": 106, 
            "cell_type": "code", 
            "metadata": {}, 
            "outputs": [
                {
                    "execution_count": 106, 
                    "metadata": {}, 
                    "data": {
                        "text/html": "<div>\n<style scoped>\n    .dataframe tbody tr th:only-of-type {\n        vertical-align: middle;\n    }\n\n    .dataframe tbody tr th {\n        vertical-align: top;\n    }\n\n    .dataframe thead th {\n        text-align: right;\n    }\n</style>\n<table border=\"1\" class=\"dataframe\">\n  <thead>\n    <tr style=\"text-align: right;\">\n      <th></th>\n      <th>Postcode</th>\n      <th>Borough</th>\n      <th>Neighbourhood</th>\n    </tr>\n  </thead>\n  <tbody>\n    <tr>\n      <th>2</th>\n      <td>M3A</td>\n      <td>North York</td>\n      <td>Parkwoods</td>\n    </tr>\n    <tr>\n      <th>3</th>\n      <td>M4A</td>\n      <td>North York</td>\n      <td>Victoria Village</td>\n    </tr>\n    <tr>\n      <th>4</th>\n      <td>M5A</td>\n      <td>Downtown Toronto</td>\n      <td>Harbourfront</td>\n    </tr>\n    <tr>\n      <th>5</th>\n      <td>M5A</td>\n      <td>Downtown Toronto</td>\n      <td>Regent Park</td>\n    </tr>\n    <tr>\n      <th>6</th>\n      <td>M6A</td>\n      <td>North York</td>\n      <td>Lawrence Heights</td>\n    </tr>\n  </tbody>\n</table>\n</div>", 
                        "text/plain": "  Postcode           Borough     Neighbourhood\n2      M3A        North York         Parkwoods\n3      M4A        North York  Victoria Village\n4      M5A  Downtown Toronto      Harbourfront\n5      M5A  Downtown Toronto       Regent Park\n6      M6A        North York  Lawrence Heights"
                    }, 
                    "output_type": "execute_result"
                }
            ], 
            "source": "df = df[df.Borough != 'Not assigned']\ndf.head()"
        }, 
        {
            "execution_count": 107, 
            "cell_type": "code", 
            "metadata": {}, 
            "outputs": [
                {
                    "execution_count": 107, 
                    "metadata": {}, 
                    "data": {
                        "text/plain": "Etobicoke           45\nScarborough         38\nNorth York          38\nDowntown Toronto    37\nCentral Toronto     17\nWest Toronto        13\nYork                 9\nEast Toronto         7\nEast York            6\nMississauga          1\nQueen's Park         1\nName: Borough, dtype: int64"
                    }, 
                    "output_type": "execute_result"
                }
            ], 
            "source": "\ndf['Borough'].value_counts()\n\n"
        }, 
        {
            "source": "### Merge the duplicated Postcode and Borough Neighborhoods", 
            "cell_type": "markdown", 
            "metadata": {}
        }, 
        {
            "execution_count": 108, 
            "cell_type": "code", 
            "metadata": {}, 
            "outputs": [
                {
                    "execution_count": 108, 
                    "metadata": {}, 
                    "data": {
                        "text/html": "<div>\n<style scoped>\n    .dataframe tbody tr th:only-of-type {\n        vertical-align: middle;\n    }\n\n    .dataframe tbody tr th {\n        vertical-align: top;\n    }\n\n    .dataframe thead th {\n        text-align: right;\n    }\n</style>\n<table border=\"1\" class=\"dataframe\">\n  <thead>\n    <tr style=\"text-align: right;\">\n      <th></th>\n      <th>Borough</th>\n      <th>Postcode</th>\n      <th>Neighbourhood</th>\n    </tr>\n  </thead>\n  <tbody>\n    <tr>\n      <th>0</th>\n      <td>Central Toronto</td>\n      <td>M4N</td>\n      <td>Lawrence Park</td>\n    </tr>\n    <tr>\n      <th>1</th>\n      <td>Central Toronto</td>\n      <td>M4P</td>\n      <td>Davisville North</td>\n    </tr>\n    <tr>\n      <th>2</th>\n      <td>Central Toronto</td>\n      <td>M4R</td>\n      <td>North Toronto West</td>\n    </tr>\n    <tr>\n      <th>3</th>\n      <td>Central Toronto</td>\n      <td>M4S</td>\n      <td>Davisville</td>\n    </tr>\n    <tr>\n      <th>4</th>\n      <td>Central Toronto</td>\n      <td>M4T</td>\n      <td>Moore Park,Summerhill East</td>\n    </tr>\n  </tbody>\n</table>\n</div>", 
                        "text/plain": "           Borough Postcode               Neighbourhood\n0  Central Toronto      M4N               Lawrence Park\n1  Central Toronto      M4P            Davisville North\n2  Central Toronto      M4R          North Toronto West\n3  Central Toronto      M4S                  Davisville\n4  Central Toronto      M4T  Moore Park,Summerhill East"
                    }, 
                    "output_type": "execute_result"
                }
            ], 
            "source": "df = df.groupby(['Borough','Postcode'])['Neighbourhood'].apply(','.join).reset_index()\ndf.head()"
        }, 
        {
            "source": "###  Check to see if there are 'Not assigned' neighbourhoods", 
            "cell_type": "markdown", 
            "metadata": {}
        }, 
        {
            "execution_count": 111, 
            "cell_type": "code", 
            "metadata": {}, 
            "outputs": [
                {
                    "execution_count": 111, 
                    "metadata": {}, 
                    "data": {
                        "text/html": "<div>\n<style scoped>\n    .dataframe tbody tr th:only-of-type {\n        vertical-align: middle;\n    }\n\n    .dataframe tbody tr th {\n        vertical-align: top;\n    }\n\n    .dataframe thead th {\n        text-align: right;\n    }\n</style>\n<table border=\"1\" class=\"dataframe\">\n  <thead>\n    <tr style=\"text-align: right;\">\n      <th></th>\n      <th>Borough</th>\n      <th>Postcode</th>\n      <th>Neighbourhood</th>\n    </tr>\n  </thead>\n  <tbody>\n    <tr>\n      <th>74</th>\n      <td>Queen's Park</td>\n      <td>M7A</td>\n      <td>Not assigned</td>\n    </tr>\n  </tbody>\n</table>\n</div>", 
                        "text/plain": "         Borough Postcode Neighbourhood\n74  Queen's Park      M7A  Not assigned"
                    }, 
                    "output_type": "execute_result"
                }
            ], 
            "source": "df[df['Neighbourhood'].str.contains(\"Not assigned\")]"
        }, 
        {
            "source": "### The neighbourhood that is not assigned is assigned the Borough nanme", 
            "cell_type": "markdown", 
            "metadata": {}
        }, 
        {
            "execution_count": 112, 
            "cell_type": "code", 
            "metadata": {}, 
            "outputs": [
                {
                    "execution_count": 112, 
                    "metadata": {}, 
                    "data": {
                        "text/plain": "0                                          Lawrence Park\n1                                       Davisville North\n2                                     North Toronto West\n3                                             Davisville\n4                             Moore Park,Summerhill East\n5      Deer Park,Forest Hill SE,Rathnelly,South Hill,...\n6                                               Roselawn\n7                     Forest Hill North,Forest Hill West\n8                      The Annex,North Midtown,Yorkville\n9                                               Rosedale\n10                            Cabbagetown,St. James Town\n11                                  Church and Wellesley\n12                              Harbourfront,Regent Park\n13                               Ryerson,Garden District\n14                                        St. James Town\n15                                           Berczy Park\n16                                    Central Bay Street\n17                                Adelaide,King,Richmond\n18       Harbourfront East,Toronto Islands,Union Station\n19               Design Exchange,Toronto Dominion Centre\n20                         Commerce Court,Victoria Hotel\n21                         Harbord,University of Toronto\n22               Chinatown,Grange Park,Kensington Market\n23     CN Tower,Bathurst Quay,Island airport,Harbourf...\n24                       Stn A PO Boxes 25 The Esplanade\n25                 First Canadian Place,Underground city\n26                                              Christie\n27                                           The Beaches\n28                           The Danforth West,Riverdale\n29                         The Beaches West,India Bazaar\n                             ...                        \n73                                       Emery,Humberlea\n74                                           Queens Park\n75                                         Rouge,Malvern\n76                  Highland Creek,Rouge Hill,Port Union\n77                       Guildwood,Morningside,West Hill\n78                                                Woburn\n79                                             Cedarbrae\n80                                   Scarborough Village\n81             East Birchmount Park,Ionview,Kennedy Park\n82                         Clairlea,Golden Mile,Oakridge\n83         Cliffcrest,Cliffside,Scarborough Village West\n84                            Birch Cliff,Cliffside West\n85     Dorset Park,Scarborough Town Centre,Wexford He...\n86                                      Maryvale,Wexford\n87                                             Agincourt\n88                 Clarks Corners,Sullivan,Tam O'Shanter\n89     Agincourt North,L'Amoreaux East,Milliken,Steel...\n90                          L'Amoreaux West,Steeles West\n91                                           Upper Rouge\n92                           Dovercourt Village,Dufferin\n93                               Little Portugal,Trinity\n94            Brockton,Exhibition Place,Parkdale Village\n95                          High Park,The Junction South\n96                                 Parkdale,Roncesvalles\n97                                     Runnymede,Swansea\n98                                    Humewood-Cedarvale\n99                                   Caledonia-Fairbanks\n100          Del Ray,Keelesdale,Mount Dennis,Silverthorn\n101                         The Junction North,Runnymede\n102                                               Weston\nName: Neighbourhood, Length: 103, dtype: object"
                    }, 
                    "output_type": "execute_result"
                }
            ], 
            "source": " df['Neighbourhood'].replace(['Not assigned'],'Queens Park')"
        }, 
        {
            "execution_count": 114, 
            "cell_type": "code", 
            "metadata": {}, 
            "outputs": [
                {
                    "execution_count": 114, 
                    "metadata": {}, 
                    "data": {
                        "text/plain": "(103, 3)"
                    }, 
                    "output_type": "execute_result"
                }
            ], 
            "source": "df.shape"
        }, 
        {
            "source": "### There are 103 rows", 
            "cell_type": "markdown", 
            "metadata": {}
        }
    ], 
    "metadata": {
        "kernelspec": {
            "display_name": "Python 3.5", 
            "name": "python3", 
            "language": "python"
        }, 
        "language_info": {
            "mimetype": "text/x-python", 
            "nbconvert_exporter": "python", 
            "version": "3.5.5", 
            "name": "python", 
            "file_extension": ".py", 
            "pygments_lexer": "ipython3", 
            "codemirror_mode": {
                "version": 3, 
                "name": "ipython"
            }
        }
    }, 
    "nbformat": 4
}