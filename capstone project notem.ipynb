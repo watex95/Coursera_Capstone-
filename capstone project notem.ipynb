{
    "nbformat_minor": 1, 
    "cells": [
        {
            "source": "# @hidden_cell\n# The project token is an authorization token that is used to access project resources like data sources, connections, and used by platform APIs.\nfrom project_lib import Project\nproject = Project(project_id='50c32119-5dc2-4f0f-a296-969f29e3c6f0', project_access_token='p-f316b366e9833f57c9ceef2c4e03405ca7505f82')\npc = project.project_context\n", 
            "cell_type": "code", 
            "metadata": {}, 
            "outputs": [], 
            "execution_count": null
        }, 
        {
            "source": "# Coursera capstone project notebook", 
            "cell_type": "markdown", 
            "metadata": {
                "collapsed": true
            }
        }, 
        {
            "source": "# Segmenting and Clustering Neighborhoods in Toronto", 
            "cell_type": "markdown", 
            "metadata": {}
        }, 
        {
            "source": "# Web scrapping the data ", 
            "cell_type": "markdown", 
            "metadata": {}
        }, 
        {
            "source": "import pandas as pd\nimport numpy as np\nimport requests\nimport lxml.html as lh\nimport pandas as pd", 
            "cell_type": "code", 
            "metadata": {}, 
            "outputs": [], 
            "execution_count": 123
        }, 
        {
            "source": "### Scrape Table Cells", 
            "cell_type": "markdown", 
            "metadata": {}
        }, 
        {
            "source": "\nurl='https://en.wikipedia.org/wiki/List_of_postal_codes_of_Canada:_M'\n#Create a handle, page, to handle the contents of the website\npage = requests.get(url)\n\n#Store the contents of the website under doc\ndoc = lh.fromstring(page.content)\n\n#Parse data that are stored between <tr>..</tr> of HTML\ntr_elements =doc.xpath('//tr')", 
            "cell_type": "code", 
            "metadata": {}, 
            "outputs": [], 
            "execution_count": 124
        }, 
        {
            "source": "", 
            "cell_type": "code", 
            "metadata": {}, 
            "outputs": [], 
            "execution_count": null
        }, 
        {
            "source": "", 
            "cell_type": "code", 
            "metadata": {}, 
            "outputs": [], 
            "execution_count": null
        }, 
        {
            "source": "### Check the length of the first 12 rows is same", 
            "cell_type": "markdown", 
            "metadata": {}
        }, 
        {
            "source": "\n[len(T) for T in tr_elements[:12]]", 
            "cell_type": "code", 
            "metadata": {}, 
            "outputs": [
                {
                    "output_type": "execute_result", 
                    "data": {
                        "text/plain": "[3, 3, 3, 3, 3, 3, 3, 3, 3, 3, 3, 3]"
                    }, 
                    "execution_count": 125, 
                    "metadata": {}
                }
            ], 
            "execution_count": 125
        }, 
        {
            "source": "### Parse Table Header", 
            "cell_type": "markdown", 
            "metadata": {}
        }, 
        {
            "source": "#Parse table header\n\ntr_elements = doc.xpath('//tr')\n\n#Create empty list\ncol=[]\ni=0\n\n#For each row, store each first element (header) and an empty list\nfor t in tr_elements[0]:\n    i+=1\n    name=t.text_content()\n    print('%d:%s'%(i,name))\n    col.append((name,[]))", 
            "cell_type": "code", 
            "metadata": {}, 
            "outputs": [
                {
                    "output_type": "stream", 
                    "name": "stdout", 
                    "text": "1:Postcode\n2:Borough\n3:Neighbourhood\n\n"
                }
            ], 
            "execution_count": 135
        }, 
        {
            "source": "### CREATE THE PANDAS DATAFRAME", 
            "cell_type": "markdown", 
            "metadata": {}
        }, 
        {
            "source": "\n\n\n#Since out first row is the header, data is stored on the second row onwards\nfor j in range(1,len(tr_elements)):\n    #T is our j'th row\n    T=tr_elements[j]\n    \n    #If row is not of size 10, the //tr data is not from our table \n    if len(T)!=3:\n        break\n    \n    #i is the index of our column\n    i=0\n    \n    #Iterate through each element of the row\n    for t in T.iterchildren():\n        data=t.text_content() \n        #Check if row is empty\n        if i>0:\n        #Convert any numerical value to integers\n            try:\n                data=int(data)\n            except:\n                pass\n        #Append the data to the empty list of the i'th column\n        col[i][1].append(data)\n        #Increment i for the next column\n        i+=1       ", 
            "cell_type": "code", 
            "metadata": {}, 
            "outputs": [], 
            "execution_count": 136
        }, 
        {
            "source": "### ensure that all the columns have the same length.", 
            "cell_type": "markdown", 
            "metadata": {}
        }, 
        {
            "source": "[len(C) for (title,C) in col]", 
            "cell_type": "code", 
            "metadata": {}, 
            "outputs": [
                {
                    "output_type": "execute_result", 
                    "data": {
                        "text/plain": "[289, 289, 289]"
                    }, 
                    "execution_count": 143, 
                    "metadata": {}
                }
            ], 
            "execution_count": 143
        }, 
        {
            "source": "### Create data frame", 
            "cell_type": "markdown", 
            "metadata": {}
        }, 
        {
            "source": "Dict={title:column for (title,column) in col}\ndf1=pd.DataFrame(Dict)", 
            "cell_type": "code", 
            "metadata": {}, 
            "outputs": [], 
            "execution_count": 182
        }, 
        {
            "source": "df1.columns", 
            "cell_type": "code", 
            "metadata": {}, 
            "outputs": [
                {
                    "output_type": "execute_result", 
                    "data": {
                        "text/plain": "Index(['Borough', 'Neighbourhood\\n', 'Postcode'], dtype='object')"
                    }, 
                    "execution_count": 183, 
                    "metadata": {}
                }
            ], 
            "execution_count": 183
        }, 
        {
            "source": "df1.head()\n", 
            "cell_type": "code", 
            "metadata": {}, 
            "outputs": [
                {
                    "output_type": "execute_result", 
                    "data": {
                        "text/plain": "            Borough     Neighbourhood\\n Postcode\n0      Not assigned      Not assigned\\n      M1A\n1      Not assigned      Not assigned\\n      M2A\n2        North York         Parkwoods\\n      M3A\n3        North York  Victoria Village\\n      M4A\n4  Downtown Toronto      Harbourfront\\n      M5A", 
                        "text/html": "<div>\n<style scoped>\n    .dataframe tbody tr th:only-of-type {\n        vertical-align: middle;\n    }\n\n    .dataframe tbody tr th {\n        vertical-align: top;\n    }\n\n    .dataframe thead th {\n        text-align: right;\n    }\n</style>\n<table border=\"1\" class=\"dataframe\">\n  <thead>\n    <tr style=\"text-align: right;\">\n      <th></th>\n      <th>Borough</th>\n      <th>Neighbourhood</th>\n      <th>Postcode</th>\n    </tr>\n  </thead>\n  <tbody>\n    <tr>\n      <th>0</th>\n      <td>Not assigned</td>\n      <td>Not assigned\\n</td>\n      <td>M1A</td>\n    </tr>\n    <tr>\n      <th>1</th>\n      <td>Not assigned</td>\n      <td>Not assigned\\n</td>\n      <td>M2A</td>\n    </tr>\n    <tr>\n      <th>2</th>\n      <td>North York</td>\n      <td>Parkwoods\\n</td>\n      <td>M3A</td>\n    </tr>\n    <tr>\n      <th>3</th>\n      <td>North York</td>\n      <td>Victoria Village\\n</td>\n      <td>M4A</td>\n    </tr>\n    <tr>\n      <th>4</th>\n      <td>Downtown Toronto</td>\n      <td>Harbourfront\\n</td>\n      <td>M5A</td>\n    </tr>\n  </tbody>\n</table>\n</div>"
                    }, 
                    "execution_count": 186, 
                    "metadata": {}
                }
            ], 
            "execution_count": 186
        }, 
        {
            "source": "df1['Borough'].value_counts()", 
            "cell_type": "code", 
            "metadata": {
                "scrolled": true
            }, 
            "outputs": [
                {
                    "output_type": "execute_result", 
                    "data": {
                        "text/plain": "Not assigned        77\nEtobicoke           45\nScarborough         38\nNorth York          38\nDowntown Toronto    37\nCentral Toronto     17\nWest Toronto        13\nYork                 9\nEast Toronto         7\nEast York            6\nMississauga          1\nQueen's Park         1\nName: Borough, dtype: int64"
                    }, 
                    "execution_count": 187, 
                    "metadata": {}
                }
            ], 
            "execution_count": 187
        }, 
        {
            "source": "### Remove the 'Not assigned' Borough", 
            "cell_type": "markdown", 
            "metadata": {}
        }, 
        {
            "source": "df2 = df1[df1.Borough != 'Not assigned']\ndf2.head()", 
            "cell_type": "code", 
            "metadata": {}, 
            "outputs": [
                {
                    "output_type": "execute_result", 
                    "data": {
                        "text/plain": "            Borough     Neighbourhood\\n Postcode\n2        North York         Parkwoods\\n      M3A\n3        North York  Victoria Village\\n      M4A\n4  Downtown Toronto      Harbourfront\\n      M5A\n5  Downtown Toronto       Regent Park\\n      M5A\n6        North York  Lawrence Heights\\n      M6A", 
                        "text/html": "<div>\n<style scoped>\n    .dataframe tbody tr th:only-of-type {\n        vertical-align: middle;\n    }\n\n    .dataframe tbody tr th {\n        vertical-align: top;\n    }\n\n    .dataframe thead th {\n        text-align: right;\n    }\n</style>\n<table border=\"1\" class=\"dataframe\">\n  <thead>\n    <tr style=\"text-align: right;\">\n      <th></th>\n      <th>Borough</th>\n      <th>Neighbourhood</th>\n      <th>Postcode</th>\n    </tr>\n  </thead>\n  <tbody>\n    <tr>\n      <th>2</th>\n      <td>North York</td>\n      <td>Parkwoods\\n</td>\n      <td>M3A</td>\n    </tr>\n    <tr>\n      <th>3</th>\n      <td>North York</td>\n      <td>Victoria Village\\n</td>\n      <td>M4A</td>\n    </tr>\n    <tr>\n      <th>4</th>\n      <td>Downtown Toronto</td>\n      <td>Harbourfront\\n</td>\n      <td>M5A</td>\n    </tr>\n    <tr>\n      <th>5</th>\n      <td>Downtown Toronto</td>\n      <td>Regent Park\\n</td>\n      <td>M5A</td>\n    </tr>\n    <tr>\n      <th>6</th>\n      <td>North York</td>\n      <td>Lawrence Heights\\n</td>\n      <td>M6A</td>\n    </tr>\n  </tbody>\n</table>\n</div>"
                    }, 
                    "execution_count": 188, 
                    "metadata": {}
                }
            ], 
            "execution_count": 188
        }, 
        {
            "source": "### Inspect the not assigned neighbourhood", 
            "cell_type": "markdown", 
            "metadata": {}
        }, 
        {
            "source": "dfN = df2[df2.Neighbourhood == 'Not assigned\\n']\ndfN.head()", 
            "cell_type": "code", 
            "metadata": {}, 
            "outputs": [
                {
                    "output_type": "error", 
                    "evalue": "'DataFrame' object has no attribute 'Neighbourhood'", 
                    "traceback": [
                        "\u001b[0;31m---------------------------------------------------------------------------\u001b[0m", 
                        "\u001b[0;31mAttributeError\u001b[0m                            Traceback (most recent call last)", 
                        "\u001b[0;32m<ipython-input-201-0c05b41bdacd>\u001b[0m in \u001b[0;36m<module>\u001b[0;34m()\u001b[0m\n\u001b[0;32m----> 1\u001b[0;31m \u001b[0mdfN\u001b[0m \u001b[0;34m=\u001b[0m \u001b[0mdf2\u001b[0m\u001b[0;34m[\u001b[0m\u001b[0mdf2\u001b[0m\u001b[0;34m.\u001b[0m\u001b[0mNeighbourhood\u001b[0m \u001b[0;34m==\u001b[0m \u001b[0;34m'Not assigned\\n'\u001b[0m\u001b[0;34m]\u001b[0m\u001b[0;34m\u001b[0m\u001b[0m\n\u001b[0m\u001b[1;32m      2\u001b[0m \u001b[0mdfN\u001b[0m\u001b[0;34m.\u001b[0m\u001b[0mhead\u001b[0m\u001b[0;34m(\u001b[0m\u001b[0;34m)\u001b[0m\u001b[0;34m\u001b[0m\u001b[0m\n", 
                        "\u001b[0;32m/opt/conda/envs/DSX-Python35/lib/python3.5/site-packages/pandas/core/generic.py\u001b[0m in \u001b[0;36m__getattr__\u001b[0;34m(self, name)\u001b[0m\n\u001b[1;32m   3612\u001b[0m             \u001b[0;32mif\u001b[0m \u001b[0mname\u001b[0m \u001b[0;32min\u001b[0m \u001b[0mself\u001b[0m\u001b[0;34m.\u001b[0m\u001b[0m_info_axis\u001b[0m\u001b[0;34m:\u001b[0m\u001b[0;34m\u001b[0m\u001b[0m\n\u001b[1;32m   3613\u001b[0m                 \u001b[0;32mreturn\u001b[0m \u001b[0mself\u001b[0m\u001b[0;34m[\u001b[0m\u001b[0mname\u001b[0m\u001b[0;34m]\u001b[0m\u001b[0;34m\u001b[0m\u001b[0m\n\u001b[0;32m-> 3614\u001b[0;31m             \u001b[0;32mreturn\u001b[0m \u001b[0mobject\u001b[0m\u001b[0;34m.\u001b[0m\u001b[0m__getattribute__\u001b[0m\u001b[0;34m(\u001b[0m\u001b[0mself\u001b[0m\u001b[0;34m,\u001b[0m \u001b[0mname\u001b[0m\u001b[0;34m)\u001b[0m\u001b[0;34m\u001b[0m\u001b[0m\n\u001b[0m\u001b[1;32m   3615\u001b[0m \u001b[0;34m\u001b[0m\u001b[0m\n\u001b[1;32m   3616\u001b[0m     \u001b[0;32mdef\u001b[0m \u001b[0m__setattr__\u001b[0m\u001b[0;34m(\u001b[0m\u001b[0mself\u001b[0m\u001b[0;34m,\u001b[0m \u001b[0mname\u001b[0m\u001b[0;34m,\u001b[0m \u001b[0mvalue\u001b[0m\u001b[0;34m)\u001b[0m\u001b[0;34m:\u001b[0m\u001b[0;34m\u001b[0m\u001b[0m\n", 
                        "\u001b[0;31mAttributeError\u001b[0m: 'DataFrame' object has no attribute 'Neighbourhood'"
                    ], 
                    "ename": "AttributeError"
                }
            ], 
            "execution_count": 201
        }, 
        {
            "source": "", 
            "cell_type": "code", 
            "metadata": {}, 
            "outputs": [], 
            "execution_count": null
        }, 
        {
            "source": "### Merge the duplicated Postcode and Borough Neighborhoods", 
            "cell_type": "markdown", 
            "metadata": {}
        }, 
        {
            "source": "df3 = df2.groupby(['Borough','Postcode'])['Neighbourhood\\n'].apply(','.join).reset_index()\ndf.head()", 
            "cell_type": "code", 
            "metadata": {}, 
            "outputs": [
                {
                    "output_type": "execute_result", 
                    "data": {
                        "text/plain": "           Borough Postcode                 Neighbourhood\\n\n0  Central Toronto      M4N                 Lawrence Park\\n\n1  Central Toronto      M4P              Davisville North\\n\n2  Central Toronto      M4R            North Toronto West\\n\n3  Central Toronto      M4S                    Davisville\\n\n4  Central Toronto      M4T  Moore Park\\n,Summerhill East\\n", 
                        "text/html": "<div>\n<style scoped>\n    .dataframe tbody tr th:only-of-type {\n        vertical-align: middle;\n    }\n\n    .dataframe tbody tr th {\n        vertical-align: top;\n    }\n\n    .dataframe thead th {\n        text-align: right;\n    }\n</style>\n<table border=\"1\" class=\"dataframe\">\n  <thead>\n    <tr style=\"text-align: right;\">\n      <th></th>\n      <th>Borough</th>\n      <th>Postcode</th>\n      <th>Neighbourhood</th>\n    </tr>\n  </thead>\n  <tbody>\n    <tr>\n      <th>0</th>\n      <td>Central Toronto</td>\n      <td>M4N</td>\n      <td>Lawrence Park\\n</td>\n    </tr>\n    <tr>\n      <th>1</th>\n      <td>Central Toronto</td>\n      <td>M4P</td>\n      <td>Davisville North\\n</td>\n    </tr>\n    <tr>\n      <th>2</th>\n      <td>Central Toronto</td>\n      <td>M4R</td>\n      <td>North Toronto West\\n</td>\n    </tr>\n    <tr>\n      <th>3</th>\n      <td>Central Toronto</td>\n      <td>M4S</td>\n      <td>Davisville\\n</td>\n    </tr>\n    <tr>\n      <th>4</th>\n      <td>Central Toronto</td>\n      <td>M4T</td>\n      <td>Moore Park\\n,Summerhill East\\n</td>\n    </tr>\n  </tbody>\n</table>\n</div>"
                    }, 
                    "execution_count": 193, 
                    "metadata": {}
                }
            ], 
            "execution_count": 193
        }, 
        {
            "source": "#if a cell has a borough and not assigned a neighbourhood the borough becomes the neighbourhood.\n#loop thru neighbourhood if 'not assigned' is there replace with borough value in same index\ndf2.loc[:,'Neighbourhood'] = df['Neighbourhood'].where((df['Neighbourhood']='Not assigned'))\n", 
            "cell_type": "code", 
            "metadata": {}, 
            "outputs": [], 
            "execution_count": null
        }, 
        {
            "source": "", 
            "cell_type": "code", 
            "metadata": {}, 
            "outputs": [], 
            "execution_count": null
        }, 
        {
            "source": "", 
            "cell_type": "code", 
            "metadata": {}, 
            "outputs": [], 
            "execution_count": null
        }, 
        {
            "source": "", 
            "cell_type": "code", 
            "metadata": {}, 
            "outputs": [], 
            "execution_count": null
        }
    ], 
    "metadata": {
        "kernelspec": {
            "display_name": "Python 3.5", 
            "name": "python3", 
            "language": "python"
        }, 
        "language_info": {
            "mimetype": "text/x-python", 
            "nbconvert_exporter": "python", 
            "version": "3.5.5", 
            "name": "python", 
            "pygments_lexer": "ipython3", 
            "file_extension": ".py", 
            "codemirror_mode": {
                "version": 3, 
                "name": "ipython"
            }
        }
    }, 
    "nbformat": 4
}